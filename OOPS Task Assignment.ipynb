{
 "cells": [
  {
   "cell_type": "code",
   "execution_count": 1,
   "id": "9871d89e-f395-4fae-8dc7-060054d84b9b",
   "metadata": {},
   "outputs": [],
   "source": [
    "#Q1, Create a vehicle class with an init method having instance variables as name_of_vehicle, max_speed\n",
    "#and average_of_vehicle."
   ]
  },
  {
   "cell_type": "code",
   "execution_count": 3,
   "id": "659d1844-4a31-464b-9ecc-376151049aff",
   "metadata": {},
   "outputs": [],
   "source": [
    "class vehicle :\n",
    "    def __init__(self, name_of_vehicle, max_speed, average_of_vehicle) :\n",
    "        self.name = name_of_vehicle\n",
    "        self.speed = max_speed\n",
    "        self.averate = average_of_vehicle"
   ]
  },
  {
   "cell_type": "code",
   "execution_count": 4,
   "id": "962017a0-3cd5-4b98-af06-a581def4f402",
   "metadata": {},
   "outputs": [],
   "source": [
    "#Q2. Create a child class car from the vehicle class created in Que 1, which will inherit the vehicle class.\n",
    "#Create a method named seating_capacity which takes capacity as an argument and returns the name of\n",
    "#the vehicle and its seating capacity."
   ]
  },
  {
   "cell_type": "code",
   "execution_count": 22,
   "id": "e04eac08-4d04-409b-b6d5-dadcd1533dab",
   "metadata": {},
   "outputs": [
    {
     "data": {
      "text/plain": [
       "'nano has capacity of 6 people'"
      ]
     },
     "execution_count": 22,
     "metadata": {},
     "output_type": "execute_result"
    }
   ],
   "source": [
    "class car(vehicle) :\n",
    "    def seating_capacity(self, capacity) :\n",
    "        return f\"{self.name} has capacity of {capacity} people\"\n",
    "    \n",
    "\n",
    "#usage of above code\n",
    "\n",
    "car1 = car('Nano', 134, 32)\n",
    "car1.seating_capacity(6)"
   ]
  },
  {
   "cell_type": "code",
   "execution_count": 23,
   "id": "e2e994ef-9695-4462-be00-6f8e74a5475c",
   "metadata": {},
   "outputs": [],
   "source": [
    "#Q3. What is multiple inheritance? Write a python code to demonstrate multiple inheritance."
   ]
  },
  {
   "cell_type": "code",
   "execution_count": 25,
   "id": "6e5a7dda-b594-4c29-b871-b0f5a929711a",
   "metadata": {},
   "outputs": [],
   "source": [
    "#it is where once class inherit the properties of 2 or more class\n",
    "\n",
    "class papa :\n",
    "    def papa1 (self) :\n",
    "        return \"I am your father\"\n",
    "class mother :\n",
    "    def mother1(self) :\n",
    "        return \"I am your Mother\"\n",
    "class child(papa, mother) :  # this is called multiple inheritance as we are inherit the property of multiple class\n",
    "    pass  \n",
    "c = child()"
   ]
  },
  {
   "cell_type": "code",
   "execution_count": 26,
   "id": "3ba6c9bc-d26f-43b0-b10d-81c5a1fda260",
   "metadata": {},
   "outputs": [
    {
     "data": {
      "text/plain": [
       "'I am your father'"
      ]
     },
     "execution_count": 26,
     "metadata": {},
     "output_type": "execute_result"
    }
   ],
   "source": [
    "c.papa1()"
   ]
  },
  {
   "cell_type": "code",
   "execution_count": 27,
   "id": "87be6921-a57f-4b6f-bc3e-d32910afb017",
   "metadata": {},
   "outputs": [
    {
     "data": {
      "text/plain": [
       "'I am your Mother'"
      ]
     },
     "execution_count": 27,
     "metadata": {},
     "output_type": "execute_result"
    }
   ],
   "source": [
    "c.mother1()"
   ]
  },
  {
   "cell_type": "code",
   "execution_count": 28,
   "id": "59b9097e-f098-4ab4-b5b7-44f2d0be3295",
   "metadata": {},
   "outputs": [],
   "source": [
    "#Q4. What are getter and setter in python? Create a class and create a getter and a setter method in this\n",
    "#class."
   ]
  },
  {
   "cell_type": "code",
   "execution_count": 29,
   "id": "c6d7f73c-6d6d-417f-abc7-5c69061de7f2",
   "metadata": {},
   "outputs": [],
   "source": [
    "#ans. getters and setters are methods used to access and modify the attributes (variables) of a class."
   ]
  },
  {
   "cell_type": "code",
   "execution_count": 39,
   "id": "b942fa81-816a-4f7f-9ae1-7a1801768a32",
   "metadata": {},
   "outputs": [],
   "source": [
    "class person :\n",
    "    def __init__(self, name, age) :\n",
    "        self.name = name\n",
    "        self.age = age\n",
    "        \n",
    "    def get_age(self) :\n",
    "        return self.age\n",
    "    \n",
    "    def set_age(self, new_age) :\n",
    "        0 < new_age <= 120\n",
    "        self.age = new_age\n",
    "        return new_age"
   ]
  },
  {
   "cell_type": "code",
   "execution_count": 41,
   "id": "e2589fe2-9cfb-4b12-b7de-d49501815eb6",
   "metadata": {},
   "outputs": [],
   "source": [
    "p = person('Harsh', 28)"
   ]
  },
  {
   "cell_type": "code",
   "execution_count": 42,
   "id": "7cef6c81-6d6a-4ca1-8c05-ed0f073e1c0c",
   "metadata": {},
   "outputs": [
    {
     "data": {
      "text/plain": [
       "28"
      ]
     },
     "execution_count": 42,
     "metadata": {},
     "output_type": "execute_result"
    }
   ],
   "source": [
    "p.get_age()"
   ]
  },
  {
   "cell_type": "code",
   "execution_count": 43,
   "id": "e40da866-2510-4501-8984-a139c3c498cd",
   "metadata": {},
   "outputs": [
    {
     "data": {
      "text/plain": [
       "32"
      ]
     },
     "execution_count": 43,
     "metadata": {},
     "output_type": "execute_result"
    }
   ],
   "source": [
    "p.set_age(32)"
   ]
  },
  {
   "cell_type": "code",
   "execution_count": 44,
   "id": "6740d632-dabc-4038-bc19-aa49357b4691",
   "metadata": {},
   "outputs": [],
   "source": [
    "#Q5.What is method overriding in python? Write a python code to demonstrate method overriding."
   ]
  },
  {
   "cell_type": "code",
   "execution_count": 45,
   "id": "28d8a899-cb8d-41d9-bfb4-1dc6370a4f84",
   "metadata": {},
   "outputs": [],
   "source": [
    "#When a method is overridden, the subclass's method takes precedence over the superclass's method with the same name and signature."
   ]
  },
  {
   "cell_type": "code",
   "execution_count": 46,
   "id": "2623f14f-2d36-46e3-97a4-5e622037cb45",
   "metadata": {},
   "outputs": [],
   "source": [
    "class Animal :\n",
    "    def make_sound(self) :\n",
    "        print(\"Generic Animal Sound\")\n",
    "        \n",
    "class Cat(Animal) :\n",
    "    def make_sound(self) :\n",
    "        print('Meowww')\n",
    "        \n",
    "class Dog(Animal) :\n",
    "    def make_sound(self):\n",
    "        print('Bow Wow')"
   ]
  },
  {
   "cell_type": "code",
   "execution_count": 48,
   "id": "74cc9085-4f7b-41bc-aa7e-41571ea4e491",
   "metadata": {},
   "outputs": [],
   "source": [
    "A = Animal()\n",
    "C = Cat()\n",
    "D = Dog()"
   ]
  },
  {
   "cell_type": "code",
   "execution_count": 49,
   "id": "8ab828f5-456b-4a25-9cba-c8edbf97bfda",
   "metadata": {},
   "outputs": [
    {
     "name": "stdout",
     "output_type": "stream",
     "text": [
      "Generic Animal Sound\n"
     ]
    }
   ],
   "source": [
    "A.make_sound()"
   ]
  },
  {
   "cell_type": "code",
   "execution_count": null,
   "id": "788253cc-6326-4fe2-a29b-c88f5b3d4308",
   "metadata": {},
   "outputs": [],
   "source": []
  }
 ],
 "metadata": {
  "kernelspec": {
   "display_name": "Python 3 (ipykernel)",
   "language": "python",
   "name": "python3"
  },
  "language_info": {
   "codemirror_mode": {
    "name": "ipython",
    "version": 3
   },
   "file_extension": ".py",
   "mimetype": "text/x-python",
   "name": "python",
   "nbconvert_exporter": "python",
   "pygments_lexer": "ipython3",
   "version": "3.10.8"
  }
 },
 "nbformat": 4,
 "nbformat_minor": 5
}
