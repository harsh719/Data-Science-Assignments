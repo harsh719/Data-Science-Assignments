{
 "cells": [
  {
   "cell_type": "code",
   "execution_count": 1,
   "id": "41b6b639-8349-4e70-8e77-0027b4ba55ba",
   "metadata": {},
   "outputs": [],
   "source": [
    "#Q1. What is Abstraction in OOPS? Explain with an example."
   ]
  },
  {
   "cell_type": "code",
   "execution_count": 2,
   "id": "84b18fb9-a3e3-43b8-a8a3-a5c29988cbcb",
   "metadata": {},
   "outputs": [],
   "source": [
    "#Ans1. It involves representing the essential features of an object while hiding unnecessary details. Abstraction allows us to focus on what an object does rather than how it does it.\n"
   ]
  },
  {
   "cell_type": "code",
   "execution_count": 3,
   "id": "5c2651f4-095c-40ef-a092-272cdf2c4f9b",
   "metadata": {},
   "outputs": [
    {
     "name": "stdout",
     "output_type": "stream",
     "text": [
      "Move forward when you start\n",
      "Stop the Car\n",
      "Broom vroom\n",
      "Stop the Car\n"
     ]
    }
   ],
   "source": [
    "#Exmaple:\n",
    "\n",
    "import abc\n",
    "\n",
    "class vehicle :\n",
    "    def start(self) :\n",
    "        pass\n",
    "    \n",
    "    @abc.abstractmethod\n",
    "    def stop (self) :\n",
    "        pass\n",
    "    \n",
    "    \n",
    "class Car(vehicle) :\n",
    "    def start(self) :\n",
    "        print ('Move forward when you start')\n",
    "        \n",
    "    def stop(self) :\n",
    "        print('Stop the Car')\n",
    "        \n",
    "class Bike(vehicle) :\n",
    "    def start(self) :\n",
    "        print ('Broom vroom')\n",
    "        \n",
    "    def stop(self) :\n",
    "        print('Stop the Car')\n",
    "        \n",
    "        \n",
    "c = Car()\n",
    "b = Bike()\n",
    "\n",
    "c.start()\n",
    "c.stop()\n",
    "b.start()\n",
    "b.stop()"
   ]
  },
  {
   "cell_type": "code",
   "execution_count": 4,
   "id": "b92887e3-7a30-4b42-824d-97ca504bac9c",
   "metadata": {},
   "outputs": [],
   "source": [
    "#Q2. Differentiate between Abstraction and Encapsulation. Explain with an example."
   ]
  },
  {
   "cell_type": "code",
   "execution_count": 5,
   "id": "a8a75632-ed78-46e6-9eaf-4edc19910f12",
   "metadata": {},
   "outputs": [],
   "source": [
    "#Ans2. Abstraction provides the blueprint to object to what to do rather than how to do and hide unneccessary implementation details\n",
    "\n",
    "#Encapsulation will be use to protect the data from beign modified or delete or accessing"
   ]
  },
  {
   "cell_type": "code",
   "execution_count": null,
   "id": "7adda5cd-645b-4a52-b636-26a26d6bcd17",
   "metadata": {},
   "outputs": [],
   "source": [
    "#Example Abstract method\n",
    "\n",
    "import abc\n",
    "\n",
    "class vehicle :\n",
    "    @abc.abstractmethod\n",
    "    def start(self) :\n",
    "        pass"
   ]
  },
  {
   "cell_type": "code",
   "execution_count": 51,
   "id": "ffe421dd-f03e-4d55-bae7-b849606f13f7",
   "metadata": {},
   "outputs": [
    {
     "name": "stdout",
     "output_type": "stream",
     "text": [
      "Harsh\n",
      "29\n",
      "harsh@gmail.com\n"
     ]
    },
    {
     "ename": "AttributeError",
     "evalue": "'employee_details' object has no attribute '__age'",
     "output_type": "error",
     "traceback": [
      "\u001b[0;31m---------------------------------------------------------------------------\u001b[0m",
      "\u001b[0;31mAttributeError\u001b[0m                            Traceback (most recent call last)",
      "Cell \u001b[0;32mIn[51], line 34\u001b[0m\n\u001b[1;32m     32\u001b[0m \u001b[38;5;66;03m#print(Employe1.get_id())\u001b[39;00m\n\u001b[1;32m     33\u001b[0m \u001b[38;5;28mprint\u001b[39m(Employe1\u001b[38;5;241m.\u001b[39mid)\n\u001b[0;32m---> 34\u001b[0m \u001b[38;5;28mprint\u001b[39m(\u001b[43mEmploye1\u001b[49m\u001b[38;5;241;43m.\u001b[39;49m\u001b[43m__age\u001b[49m)\n",
      "\u001b[0;31mAttributeError\u001b[0m: 'employee_details' object has no attribute '__age'"
     ]
    }
   ],
   "source": [
    "#Exmaple of encapsulation :\n",
    "\n",
    "class employee_details :\n",
    "    def __init__(self, name, age, email_id) :\n",
    "        self.__name = name\n",
    "        self.__age = age\n",
    "        self.id = email_id\n",
    "        \n",
    "    def set_name(self, new_name) :\n",
    "        self.__name = new_name\n",
    "        return new_name\n",
    "    \n",
    "    def set_id(self, new_id) :\n",
    "        self.id = new_id\n",
    "        return new_id\n",
    "    \n",
    "    def get_name(self) :\n",
    "        return self.__name\n",
    "    \n",
    "    def get_age(self) :\n",
    "        return self.__age\n",
    "    \n",
    "    def get_id(self) :\n",
    "        return self.id\n",
    "    \n",
    "    \n",
    "Employe1 = employee_details('Vrunda', 29, 'vrunda@gmail.com')\n",
    "Employe1.set_name('Harsh')\n",
    "Employe1.set_id('harsh@gmail.com')\n",
    "print (Employe1.get_name())\n",
    "print(Employe1.get_age())\n",
    "#print(Employe1.get_id())\n",
    "print(Employe1.id)\n",
    "print(Employe1.__age)"
   ]
  },
  {
   "cell_type": "code",
   "execution_count": 52,
   "id": "38e394ac-0bc5-432e-9183-d4a3be6f5902",
   "metadata": {},
   "outputs": [],
   "source": [
    "#Q3. What is abc module in python? Why is it used?"
   ]
  },
  {
   "cell_type": "code",
   "execution_count": 53,
   "id": "1019175e-00a3-4d08-b6af-702fbac57916",
   "metadata": {},
   "outputs": [],
   "source": [
    "#Ans3. Abstract Base Classes.\" It provides support for defining abstract base classes (ABCs), which are classes that cannot be instantiated directly and serve as blueprints for other classes to inherit from.\n",
    "\n",
    "# It is use to create the structure that can be use by child class as a blueprint or template"
   ]
  },
  {
   "cell_type": "code",
   "execution_count": 54,
   "id": "7cea7de8-ee37-4e14-a62e-d17c054a253d",
   "metadata": {},
   "outputs": [],
   "source": [
    "#Q4. How can we achieve data abstraction?\n"
   ]
  },
  {
   "cell_type": "code",
   "execution_count": 55,
   "id": "ba61437c-24e4-4263-9734-a9fe7976cad3",
   "metadata": {},
   "outputs": [],
   "source": [
    "#Ans4. We can achieve it through the encapsulation of data where we prevent users from accessing the data that is not important for them."
   ]
  },
  {
   "cell_type": "code",
   "execution_count": 56,
   "id": "521e78cf-825b-490d-ba71-12de7340acf6",
   "metadata": {},
   "outputs": [
    {
     "name": "stdout",
     "output_type": "stream",
     "text": [
      "Circle Area: 78.53981633974483\n",
      "Rectangle Area: 24\n",
      "Circle Radius: 5\n",
      "Rectangle Length: 4\n",
      "Rectangle Width: 6\n"
     ]
    }
   ],
   "source": [
    "#Example:\n",
    "\n",
    "from abc import ABC, abstractmethod\n",
    "import math\n",
    "\n",
    "class Shape(ABC):\n",
    "    @abstractmethod\n",
    "    def calculate_area(self):\n",
    "        pass\n",
    "\n",
    "class Circle(Shape):\n",
    "    def __init__(self, radius):\n",
    "        self.__radius = radius\n",
    "\n",
    "    def calculate_area(self):\n",
    "        return math.pi * self.__radius * self.__radius\n",
    "\n",
    "    def get_radius(self):\n",
    "        return self.__radius\n",
    "\n",
    "class Rectangle(Shape):\n",
    "    def __init__(self, length, width):\n",
    "        self.__length = length\n",
    "        self.__width = width\n",
    "\n",
    "    def calculate_area(self):\n",
    "        return self.__length * self.__width\n",
    "\n",
    "    def get_length(self):\n",
    "        return self.__length\n",
    "\n",
    "    def get_width(self):\n",
    "        return self.__width\n",
    "\n",
    "# Creating objects of Circle and Rectangle\n",
    "circle = Circle(5)\n",
    "rectangle = Rectangle(4, 6)\n",
    "\n",
    "# Using abstraction, we don't directly calculate the area, but use the common method for both shapes\n",
    "print(\"Circle Area:\", circle.calculate_area())       # Output: Circle Area: 78.53981633974483\n",
    "print(\"Rectangle Area:\", rectangle.calculate_area()) # Output: Rectangle Area: 24\n",
    "\n",
    "# Using encapsulation, we don't access the private attributes directly, but through methods\n",
    "print(\"Circle Radius:\", circle.get_radius())         # Output: Circle Radius: 5\n",
    "print(\"Rectangle Length:\", rectangle.get_length())   # Output: Rectangle Length: 4\n",
    "print(\"Rectangle Width:\", rectangle.get_width())     # Output: Rectangle Width: 6\n"
   ]
  },
  {
   "cell_type": "code",
   "execution_count": 57,
   "id": "9c5eccf6-33eb-4c66-9c7c-3436e1067744",
   "metadata": {},
   "outputs": [],
   "source": [
    "#Q5. Can we create an instance of an abstract class? Explain your answer."
   ]
  },
  {
   "cell_type": "code",
   "execution_count": 58,
   "id": "ec199bd2-03bb-4545-aa04-b62050bd41c8",
   "metadata": {},
   "outputs": [],
   "source": [
    "# No, we can't create an instance of abstract class as it's only act as a blueprint that can be use in child class"
   ]
  },
  {
   "cell_type": "code",
   "execution_count": 72,
   "id": "ed9c80b7-5982-4bfa-924f-3d80ccd16ce8",
   "metadata": {},
   "outputs": [],
   "source": [
    "#example:\n",
    "\n",
    "import abc\n",
    "\n",
    "class shape :\n",
    "    @abstractmethod\n",
    "    def test(self) :\n",
    "        pass"
   ]
  },
  {
   "cell_type": "code",
   "execution_count": 74,
   "id": "cf3b6672-780b-4dfc-9a8c-3e31d0bf6148",
   "metadata": {},
   "outputs": [],
   "source": [
    "c = shape()"
   ]
  },
  {
   "cell_type": "code",
   "execution_count": null,
   "id": "3714d16e-7ee8-4fb0-bc39-e82eeb483967",
   "metadata": {},
   "outputs": [],
   "source": []
  }
 ],
 "metadata": {
  "kernelspec": {
   "display_name": "Python 3 (ipykernel)",
   "language": "python",
   "name": "python3"
  },
  "language_info": {
   "codemirror_mode": {
    "name": "ipython",
    "version": 3
   },
   "file_extension": ".py",
   "mimetype": "text/x-python",
   "name": "python",
   "nbconvert_exporter": "python",
   "pygments_lexer": "ipython3",
   "version": "3.10.8"
  }
 },
 "nbformat": 4,
 "nbformat_minor": 5
}
