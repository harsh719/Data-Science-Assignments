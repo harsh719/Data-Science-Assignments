{
 "cells": [
  {
   "cell_type": "code",
   "execution_count": 1,
   "id": "74d00467-c2b9-4082-9529-ef26bce4f76e",
   "metadata": {},
   "outputs": [],
   "source": [
    "#Q1. Explain Class and Object with respect to Object-Oriented Programming. Give a suitable example."
   ]
  },
  {
   "cell_type": "code",
   "execution_count": 4,
   "id": "12fb35ef-da7b-4085-b429-c98b7e880c87",
   "metadata": {},
   "outputs": [],
   "source": [
    "#Ans 1. class is the template that defines the attributes (data) and function/methods.\n",
    "\n",
    "#object is the instance of class that defines the it's created using the class as a blueprint which has it's own attributes"
   ]
  },
  {
   "cell_type": "code",
   "execution_count": 5,
   "id": "3d39ad25-f941-41fa-b270-d059835f5332",
   "metadata": {},
   "outputs": [],
   "source": [
    "#Q2. Name the four pillars of OOPs."
   ]
  },
  {
   "cell_type": "code",
   "execution_count": 6,
   "id": "06370915-8cd8-4b65-bcf5-8a9596462ea8",
   "metadata": {},
   "outputs": [],
   "source": [
    "#Ans2. 1) Encapsulation , 2) Abstraction, 3) Inheritance, 4) Polymorphism"
   ]
  },
  {
   "cell_type": "code",
   "execution_count": 7,
   "id": "87abffe6-1583-409e-875b-2ac7b8517279",
   "metadata": {},
   "outputs": [],
   "source": [
    "#Q3. Explain why the __init__() function is used. Give a suitable example."
   ]
  },
  {
   "cell_type": "code",
   "execution_count": 8,
   "id": "acf43fcf-581d-4b6a-a7a3-41e88db30a8e",
   "metadata": {},
   "outputs": [],
   "source": [
    "#Ans4. It is the constructor that use to set the initial values of the attributes. It is call automatically when we create an instance or object"
   ]
  },
  {
   "cell_type": "code",
   "execution_count": 13,
   "id": "0b427e8d-41c9-4dde-8bea-35f2483e5769",
   "metadata": {},
   "outputs": [],
   "source": [
    "#example of __init__\n",
    "\n",
    "class family_details :\n",
    "    def __init__(self, name, age, number) :\n",
    "        self.name = name\n",
    "        self.age = age\n",
    "        self.number = number\n",
    "        \n",
    "    def introduce(self) :\n",
    "        print (f\"My name is: {self.name}. I am {self.age} old.  My mobile number is: {self.number}\")"
   ]
  },
  {
   "cell_type": "code",
   "execution_count": 15,
   "id": "95590dca-1967-4154-9937-dab7ef0e91f5",
   "metadata": {},
   "outputs": [],
   "source": [
    "member1 = family_details('Harsh', 28, 8511212442)\n",
    "member2 = family_details('Vrunda', 29, 6757477279)\n",
    "member3 = family_details('Twinkal', 25, 7885838282)"
   ]
  },
  {
   "cell_type": "code",
   "execution_count": 17,
   "id": "46b0392d-6189-4f25-8b40-39656ff75dae",
   "metadata": {},
   "outputs": [
    {
     "name": "stdout",
     "output_type": "stream",
     "text": [
      "My name is: Harsh. I am 28 old.  My mobile number is: 8511212442\n",
      "My name is: Vrunda. I am 29 old.  My mobile number is: 6757477279\n",
      "My name is: Twinkal. I am 25 old.  My mobile number is: 7885838282\n"
     ]
    }
   ],
   "source": [
    "member1.introduce()\n",
    "member2.introduce()\n",
    "member3.introduce()"
   ]
  },
  {
   "cell_type": "code",
   "execution_count": 18,
   "id": "c8463c14-9ead-4c4d-b400-b89d8eda3740",
   "metadata": {},
   "outputs": [],
   "source": [
    "#Q4. Why self is used in OOPs?"
   ]
  },
  {
   "cell_type": "code",
   "execution_count": 19,
   "id": "de62f673-5084-41c5-86b9-8c0e0093302a",
   "metadata": {},
   "outputs": [],
   "source": [
    "#Ans4. It is used as a reference to the instance of class and pass the attributes to class from the object or instance"
   ]
  },
  {
   "cell_type": "code",
   "execution_count": 20,
   "id": "0f686b53-ac16-4b37-9af4-7e80681cab97",
   "metadata": {},
   "outputs": [],
   "source": [
    "#Q5. What is inheritance? Give an example for each type of inheritance."
   ]
  },
  {
   "cell_type": "code",
   "execution_count": 22,
   "id": "f4889fcc-9767-477d-b15f-7aed82d9db84",
   "metadata": {},
   "outputs": [],
   "source": [
    "#Ans5. It is the concept that allows class to inherit the properties from another class. There are mainly 3 types of inheritance as follow\n",
    "# 1. Single inheritance\n",
    "# 2. Multiple inheritance\n",
    "# 3. Multilevel inheritance"
   ]
  },
  {
   "cell_type": "code",
   "execution_count": 25,
   "id": "738e1b8e-5695-44dd-8c59-038c943e4d28",
   "metadata": {},
   "outputs": [
    {
     "name": "stdout",
     "output_type": "stream",
     "text": [
      "bow wow\n",
      "bhaoww\n"
     ]
    }
   ],
   "source": [
    "#Example: Single Inheritance\n",
    "\n",
    "class Animal :\n",
    "    def make_sound(self) :\n",
    "        pass\n",
    "    \n",
    "class dog(Animal) :\n",
    "    def make_sound(self) :\n",
    "        print (\"bow wow\")\n",
    "        \n",
    "class cow(Animal) :\n",
    "    def make_sound(self) :\n",
    "        print (\"bhaoww\")\n",
    "        \n",
    "d = dog()\n",
    "c = cow()\n",
    "\n",
    "d.make_sound()\n",
    "c.make_sound()"
   ]
  },
  {
   "cell_type": "code",
   "execution_count": 27,
   "id": "bf1ccc18-bb74-48b6-8e3c-4822b4368d41",
   "metadata": {},
   "outputs": [
    {
     "name": "stdout",
     "output_type": "stream",
     "text": [
      "Drawing a Square\n",
      "Filling thr square with color\n"
     ]
    }
   ],
   "source": [
    "#Example: Multiple Inheritance\n",
    "\n",
    "class Shape :\n",
    "    def draw (self) :\n",
    "        pass\n",
    "    \n",
    "class Color :\n",
    "    def fill_color(self) :\n",
    "        pass\n",
    "    \n",
    "    \n",
    "class square(Shape, Color) :\n",
    "    def draw(self) :\n",
    "        print ('Drawing a Square')\n",
    "        \n",
    "    def fill_color(self) :\n",
    "        print ('Filling thr square with color')\n",
    "        \n",
    "s = square()\n",
    "s.draw()\n",
    "s.fill_color()"
   ]
  },
  {
   "cell_type": "code",
   "execution_count": 32,
   "id": "c7f5d991-a106-4907-8b5f-c717101083de",
   "metadata": {},
   "outputs": [
    {
     "name": "stdout",
     "output_type": "stream",
     "text": [
      "Bow wow\n",
      "Meow\n"
     ]
    }
   ],
   "source": [
    "#Example: Multilevel Inheritance\n",
    "\n",
    "class Animal :\n",
    "    def make_sound(self) :\n",
    "        pass\n",
    "    \n",
    "class Memal(Animal) :\n",
    "    def feed_milk(self) :\n",
    "        pass\n",
    "    \n",
    "    \n",
    "class Dog(Memal) :\n",
    "    def make_sound(self) :\n",
    "        print('Bow wow')\n",
    "        \n",
    "class Cat(Memal) :\n",
    "    def make_sound(self) :\n",
    "        print('Meow')\n",
    "        \n",
    "d = Dog()\n",
    "c = Cat()\n",
    "\n",
    "d.make_sound()\n",
    "c.make_sound()"
   ]
  },
  {
   "cell_type": "code",
   "execution_count": null,
   "id": "5f3498c9-a070-451b-8405-ef044e0f004e",
   "metadata": {},
   "outputs": [],
   "source": []
  }
 ],
 "metadata": {
  "kernelspec": {
   "display_name": "Python 3 (ipykernel)",
   "language": "python",
   "name": "python3"
  },
  "language_info": {
   "codemirror_mode": {
    "name": "ipython",
    "version": 3
   },
   "file_extension": ".py",
   "mimetype": "text/x-python",
   "name": "python",
   "nbconvert_exporter": "python",
   "pygments_lexer": "ipython3",
   "version": "3.10.8"
  }
 },
 "nbformat": 4,
 "nbformat_minor": 5
}
