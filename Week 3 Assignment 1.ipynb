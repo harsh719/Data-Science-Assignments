{
 "cells": [
  {
   "cell_type": "code",
   "execution_count": 14,
   "id": "5f2fc5e5-b4cc-4f82-b862-234cea4b1c48",
   "metadata": {},
   "outputs": [],
   "source": [
    "#Q1. Which keyword is used to create a function? Create a function to return a list of odd numbers in the range of 1 to 25.\n",
    "#def is used to create the function.\n",
    "\n",
    "def odd_num():\n",
    "    l = []\n",
    "    for i in range(1,26):\n",
    "        if i%2 != 0:\n",
    "            l.append(i)\n",
    "    return l"
   ]
  },
  {
   "cell_type": "code",
   "execution_count": 15,
   "id": "c2684666-55c7-444b-94e3-b2234a135e60",
   "metadata": {},
   "outputs": [
    {
     "data": {
      "text/plain": [
       "[1, 3, 5, 7, 9, 11, 13, 15, 17, 19, 21, 23, 25]"
      ]
     },
     "execution_count": 15,
     "metadata": {},
     "output_type": "execute_result"
    }
   ],
   "source": [
    "odd_num()"
   ]
  },
  {
   "cell_type": "code",
   "execution_count": 16,
   "id": "56e81b4c-5a70-4c23-af74-d8641fa05c8b",
   "metadata": {},
   "outputs": [],
   "source": [
    "#Q2. Why *args and **kwargs is used in some functions? Create a function each for *args and **kwargs to demonstrate their use.\n",
    "\n",
    "\n",
    "#*args is used to get the n number of values from users input without limit by the number of arguments in the tuple form\n",
    "#*kwargs is used to get the n number of values from the users inpur in the dictionary form seperatly\n",
    "\n",
    "#Below are the examples of both"
   ]
  },
  {
   "cell_type": "code",
   "execution_count": 19,
   "id": "0cf7b167-0826-487f-a512-412d07e1e6a0",
   "metadata": {},
   "outputs": [],
   "source": [
    "def args(*args):\n",
    "    return args"
   ]
  },
  {
   "cell_type": "code",
   "execution_count": 20,
   "id": "55d8bc2e-265f-4645-ace1-65aa3338171d",
   "metadata": {},
   "outputs": [
    {
     "data": {
      "text/plain": [
       "(1, 2, 3)"
      ]
     },
     "execution_count": 20,
     "metadata": {},
     "output_type": "execute_result"
    }
   ],
   "source": [
    "args(1,2,3)"
   ]
  },
  {
   "cell_type": "code",
   "execution_count": 26,
   "id": "6c699f3b-3c8f-4926-8405-ae7e526a771e",
   "metadata": {},
   "outputs": [],
   "source": [
    "def args1(*harsh, a, b, c):\n",
    "    return harsh,a,b,c"
   ]
  },
  {
   "cell_type": "code",
   "execution_count": 27,
   "id": "f0bd8b17-b7e5-469a-b199-72873fdb13f5",
   "metadata": {},
   "outputs": [
    {
     "data": {
      "text/plain": [
       "((1, 2, 3, 4), 345.67, 'Harsh', True)"
      ]
     },
     "execution_count": 27,
     "metadata": {},
     "output_type": "execute_result"
    }
   ],
   "source": [
    "args1(1,2,3,4, a=345.67, b=\"Harsh\", c=True)"
   ]
  },
  {
   "cell_type": "code",
   "execution_count": 32,
   "id": "fd3111ee-9a5f-4c2f-9361-54f887f19ba8",
   "metadata": {},
   "outputs": [],
   "source": [
    "def kwargs(**kwargs):\n",
    "    return kwargs"
   ]
  },
  {
   "cell_type": "code",
   "execution_count": 35,
   "id": "d7c0c755-4692-4385-a472-629a3bbe8281",
   "metadata": {},
   "outputs": [
    {
     "data": {
      "text/plain": [
       "{'Name': 'Harsh Rajeshbhai Shah',\n",
       " 'Email': 'harshshah419@gmail.com',\n",
       " 'PhoneNumber': 8511212442}"
      ]
     },
     "execution_count": 35,
     "metadata": {},
     "output_type": "execute_result"
    }
   ],
   "source": [
    "kwargs(Name = \"Harsh Rajeshbhai Shah\", Email = \"harshshah419@gmail.com\", PhoneNumber = 8511212442)"
   ]
  },
  {
   "cell_type": "code",
   "execution_count": 36,
   "id": "dbf294fa-6244-485d-b261-d5e22ca1fc43",
   "metadata": {},
   "outputs": [
    {
     "data": {
      "text/plain": [
       "'an iterator is an object that allows iteration over a sequence of elements. It provides a way to access the elements of a container (e.g., list, tuple, dictionary) one by one'"
      ]
     },
     "execution_count": 36,
     "metadata": {},
     "output_type": "execute_result"
    }
   ],
   "source": [
    "'''Q3. What is an iterator in python? Name the method used to initialise the iterator object and the method\n",
    "used for iteration. Use these methods to print the first five elements of the given list [2, 4, 6, 8, 10, 12, 14,\n",
    "16, 18, 20]. '''\n",
    "\n",
    "'''an iterator is an object that allows iteration over a sequence of elements. It provides a way to access the elements of a container (e.g., list, tuple, dictionary) one by one'''\n"
   ]
  },
  {
   "cell_type": "code",
   "execution_count": 45,
   "id": "b94f6817-bf36-4eee-b28c-d9df55ccfcde",
   "metadata": {},
   "outputs": [
    {
     "name": "stdout",
     "output_type": "stream",
     "text": [
      "2\n",
      "4\n",
      "6\n",
      "8\n",
      "10\n"
     ]
    }
   ],
   "source": [
    "l = [2, 4, 6, 8, 10, 12, 14, 16, 18, 20]\n",
    "\n",
    "my_iter = iter(l)\n",
    "\n",
    "for i in range(5):\n",
    "    j = next(my_iter)\n",
    "    print(j)"
   ]
  },
  {
   "cell_type": "code",
   "execution_count": 46,
   "id": "b3d8f272-5643-4f55-8282-4013bb5841fc",
   "metadata": {},
   "outputs": [],
   "source": [
    "#here is the alternate way to get first five elements in the list\n",
    "\n",
    "l1 = [2, 4, 6, 8, 10, 12, 14, 16, 18, 20]\n",
    "\n",
    "def ele():\n",
    "    my_iter = iter(l1)\n",
    "    l2 = []\n",
    "    for i in range(5):\n",
    "        j = next(my_iter)\n",
    "        l2.append(j)\n",
    "    return l2"
   ]
  },
  {
   "cell_type": "code",
   "execution_count": 47,
   "id": "bc4ac1b1-5230-4c17-87c4-5f8bb600bda4",
   "metadata": {},
   "outputs": [
    {
     "data": {
      "text/plain": [
       "[2, 4, 6, 8, 10]"
      ]
     },
     "execution_count": 47,
     "metadata": {},
     "output_type": "execute_result"
    }
   ],
   "source": [
    "ele()"
   ]
  },
  {
   "cell_type": "code",
   "execution_count": 48,
   "id": "30e56f07-dc7f-4ac9-91e3-cdde7b77d3f9",
   "metadata": {},
   "outputs": [
    {
     "data": {
      "text/plain": [
       "'Q4. What is a generator function in python? Why yield keyword is used? Give an example of a generator\\nfunction.'"
      ]
     },
     "execution_count": 48,
     "metadata": {},
     "output_type": "execute_result"
    }
   ],
   "source": [
    "\"\"\"Q4. What is a generator function in python? Why yield keyword is used? Give an example of a generator\n",
    "function.\"\"\""
   ]
  },
  {
   "cell_type": "code",
   "execution_count": 49,
   "id": "217c66c3-42c1-41d1-8fe5-5c3d28a7fbe8",
   "metadata": {},
   "outputs": [
    {
     "data": {
      "text/plain": [
       "'generates a sequence of values instead of returning a single value. It uses the yield keyword to define the points at which it should pause and resume execution'"
      ]
     },
     "execution_count": 49,
     "metadata": {},
     "output_type": "execute_result"
    }
   ],
   "source": [
    "\"\"\"generates a sequence of values instead of returning a single value. It uses the yield keyword to define the points at which it should pause and resume execution\"\"\""
   ]
  },
  {
   "cell_type": "code",
   "execution_count": 54,
   "id": "12bca2b3-0ffc-4cbe-bf63-995c49b386ff",
   "metadata": {},
   "outputs": [],
   "source": [
    "def test(n):\n",
    "    a,b = 1,2\n",
    "    for i in range(10):\n",
    "        yield a\n",
    "        a = b/a"
   ]
  },
  {
   "cell_type": "code",
   "execution_count": 55,
   "id": "7efb20a9-1574-4033-9787-eb96a6f92442",
   "metadata": {},
   "outputs": [
    {
     "data": {
      "text/plain": [
       "<generator object test at 0x7fbff443c660>"
      ]
     },
     "execution_count": 55,
     "metadata": {},
     "output_type": "execute_result"
    }
   ],
   "source": [
    "test(10)"
   ]
  },
  {
   "cell_type": "code",
   "execution_count": 56,
   "id": "b32ebf73-9e99-4f81-adfa-3e121c720c07",
   "metadata": {},
   "outputs": [
    {
     "name": "stdout",
     "output_type": "stream",
     "text": [
      "1\n",
      "2.0\n",
      "1.0\n",
      "2.0\n",
      "1.0\n",
      "2.0\n",
      "1.0\n",
      "2.0\n",
      "1.0\n",
      "2.0\n"
     ]
    }
   ],
   "source": [
    "for i in test(10):\n",
    "    print(i)"
   ]
  },
  {
   "cell_type": "code",
   "execution_count": 57,
   "id": "943237f6-6844-4d98-8ee9-03346bd960d7",
   "metadata": {},
   "outputs": [
    {
     "data": {
      "text/plain": [
       "'Q5. Create a generator function for prime numbers less than 1000. Use the next() method to print the\\nfirst 20 prime numbers.'"
      ]
     },
     "execution_count": 57,
     "metadata": {},
     "output_type": "execute_result"
    }
   ],
   "source": [
    "\"\"\"Q5. Create a generator function for prime numbers less than 1000. Use the next() method to print the\n",
    "first 20 prime numbers.\"\"\""
   ]
  },
  {
   "cell_type": "code",
   "execution_count": 13,
   "id": "206d4a87-4311-4a4e-a2cc-985b643c63bf",
   "metadata": {},
   "outputs": [
    {
     "name": "stdout",
     "output_type": "stream",
     "text": [
      "2\n",
      "3\n",
      "5\n",
      "7\n",
      "11\n",
      "13\n",
      "17\n",
      "19\n",
      "23\n",
      "29\n",
      "31\n",
      "37\n",
      "41\n",
      "43\n",
      "47\n",
      "53\n",
      "59\n",
      "61\n",
      "67\n",
      "71\n"
     ]
    }
   ],
   "source": [
    "def prime_numbers():\n",
    "    n = 2\n",
    "    while n < 1000:\n",
    "        for i in range(2, n):\n",
    "            if n % i == 0:\n",
    "                break\n",
    "        else:\n",
    "            yield n\n",
    "        n += 1\n",
    "\n",
    "prime = prime_numbers()\n",
    "\n",
    "for i in range(20):\n",
    "    print(next(prime))"
   ]
  },
  {
   "cell_type": "code",
   "execution_count": 14,
   "id": "53c202ea-5a52-49da-8d60-e5b3c7f4bb4e",
   "metadata": {},
   "outputs": [],
   "source": [
    "#Q6. Write a python program to print the first 10 Fibonacci numbers using a while loop."
   ]
  },
  {
   "cell_type": "code",
   "execution_count": 15,
   "id": "4d8656e6-cc42-4fe8-96a5-bbeafe209861",
   "metadata": {},
   "outputs": [],
   "source": [
    "def fib_num():\n",
    "    a,b = 0,1\n",
    "    count = 0\n",
    "    while count < 10:\n",
    "        print (a)\n",
    "        a,b = b, a+b\n",
    "        count += 1"
   ]
  },
  {
   "cell_type": "code",
   "execution_count": 16,
   "id": "bc69f570-2338-4237-bde1-aa56d1aacbc6",
   "metadata": {},
   "outputs": [
    {
     "name": "stdout",
     "output_type": "stream",
     "text": [
      "0\n",
      "1\n",
      "1\n",
      "2\n",
      "3\n",
      "5\n",
      "8\n",
      "13\n",
      "21\n",
      "34\n"
     ]
    }
   ],
   "source": [
    "fib_num()"
   ]
  },
  {
   "cell_type": "code",
   "execution_count": 17,
   "id": "21275ece-1dee-4e89-a817-47582ab7cc81",
   "metadata": {},
   "outputs": [],
   "source": [
    "def fib_nums():\n",
    "    a,b = 0,1\n",
    "    count = 0\n",
    "    while count < 10:\n",
    "        print (a)\n",
    "        a,b = b, a+b\n",
    "        count += 1"
   ]
  },
  {
   "cell_type": "code",
   "execution_count": 18,
   "id": "d58fea46-806e-470c-8b81-39f5d0504a10",
   "metadata": {},
   "outputs": [
    {
     "name": "stdout",
     "output_type": "stream",
     "text": [
      "0\n",
      "1\n",
      "1\n",
      "2\n",
      "3\n",
      "5\n",
      "8\n",
      "13\n",
      "21\n",
      "34\n"
     ]
    }
   ],
   "source": [
    "fib_num()"
   ]
  },
  {
   "cell_type": "code",
   "execution_count": 19,
   "id": "11d7e203-b2c3-41d7-9ec5-08d510388d33",
   "metadata": {},
   "outputs": [],
   "source": [
    "#Q7. Write a ListComprehension to iterate through the given string: ‘pwskills’.Expected output: ['p', 'w', 's', 'k', 'i', 'l', 'l', 's']"
   ]
  },
  {
   "cell_type": "code",
   "execution_count": 22,
   "id": "715ee66d-dc24-4816-957a-f0d9482074c9",
   "metadata": {},
   "outputs": [],
   "source": [
    "str = \"pwskills\"\n",
    "\n",
    "results = []\n",
    "\n",
    "for i in str:\n",
    "    results.append(i)"
   ]
  },
  {
   "cell_type": "code",
   "execution_count": 23,
   "id": "46c165e4-b50a-4aa5-bc7a-64d2f977ba85",
   "metadata": {},
   "outputs": [
    {
     "name": "stdout",
     "output_type": "stream",
     "text": [
      "['p', 'w', 's', 'k', 'i', 'l', 'l', 's']\n"
     ]
    }
   ],
   "source": [
    "print (results)"
   ]
  },
  {
   "cell_type": "code",
   "execution_count": 24,
   "id": "10f42701-99c9-4fa2-94e9-36dca771aff4",
   "metadata": {},
   "outputs": [],
   "source": [
    "#Q8. Write a python program to check whether a given number is Palindrome or not using a while loop."
   ]
  },
  {
   "cell_type": "code",
   "execution_count": 7,
   "id": "9cfa839c-a362-474f-bb66-98ff5b00aff5",
   "metadata": {},
   "outputs": [
    {
     "name": "stdin",
     "output_type": "stream",
     "text": [
      "Enter the Number 15151\n"
     ]
    },
    {
     "name": "stdout",
     "output_type": "stream",
     "text": [
      "15151 is the palindrome\n"
     ]
    }
   ],
   "source": [
    "n = input(\"Enter the Number\")\n",
    "#temp = n  \n",
    "rev = int(n[::-1])\n",
    "while int(n) > 0:\n",
    "    if int(n) == rev:\n",
    "        print(n, \"is the palindrome\")\n",
    "    else:\n",
    "        print(n, \"is not the palindrome\")\n",
    "    break"
   ]
  },
  {
   "cell_type": "code",
   "execution_count": 8,
   "id": "eea887cc-5e5f-4094-af5a-4b202af8135f",
   "metadata": {},
   "outputs": [],
   "source": [
    "#Q9. Write a code to print odd numbers from 1 to 100 using list comprehension.\n",
    "#Note: Use a list comprehension to create a list from 1 to 100 and use another List comprehension to filter\n",
    "#out odd numbers."
   ]
  },
  {
   "cell_type": "code",
   "execution_count": 5,
   "id": "476245b5-a4cf-4cc8-ac98-983c4fd56670",
   "metadata": {},
   "outputs": [
    {
     "name": "stdout",
     "output_type": "stream",
     "text": [
      "[0, 1, 2, 3, 4, 5, 6, 7, 8, 9, 10, 11, 12, 13, 14, 15, 16, 17, 18, 19, 20, 21, 22, 23, 24, 25, 26, 27, 28, 29, 30, 31, 32, 33, 34, 35, 36, 37, 38, 39, 40, 41, 42, 43, 44, 45, 46, 47, 48, 49, 50, 51, 52, 53, 54, 55, 56, 57, 58, 59, 60, 61, 62, 63, 64, 65, 66, 67, 68, 69, 70, 71, 72, 73, 74, 75, 76, 77, 78, 79, 80, 81, 82, 83, 84, 85, 86, 87, 88, 89, 90, 91, 92, 93, 94, 95, 96, 97, 98, 99]\n"
     ]
    }
   ],
   "source": [
    "\n",
    "l1 = [i for i in range(0,100)]\n",
    "print(l1)"
   ]
  },
  {
   "cell_type": "code",
   "execution_count": 9,
   "id": "4ab3766b-289a-4893-93e3-38e7b1b5b9a8",
   "metadata": {},
   "outputs": [
    {
     "name": "stdout",
     "output_type": "stream",
     "text": [
      "[1, 3, 5, 7, 9, 11, 13, 15, 17, 19, 21, 23, 25, 27, 29, 31, 33, 35, 37, 39, 41, 43, 45, 47, 49, 51, 53, 55, 57, 59, 61, 63, 65, 67, 69, 71, 73, 75, 77, 79, 81, 83, 85, 87, 89, 91, 93, 95, 97, 99]\n"
     ]
    }
   ],
   "source": [
    "def is_odd(num):\n",
    "    return num % 2 != 0\n",
    "\n",
    "l1 = list(range(0, 100))\n",
    "filtered_list = list(filter(is_odd, l1))\n",
    "print(filtered_list)"
   ]
  },
  {
   "cell_type": "code",
   "execution_count": null,
   "id": "ae72f078-a517-4b57-9b37-64d1f906e646",
   "metadata": {},
   "outputs": [],
   "source": []
  }
 ],
 "metadata": {
  "kernelspec": {
   "display_name": "Python 3 (ipykernel)",
   "language": "python",
   "name": "python3"
  },
  "language_info": {
   "codemirror_mode": {
    "name": "ipython",
    "version": 3
   },
   "file_extension": ".py",
   "mimetype": "text/x-python",
   "name": "python",
   "nbconvert_exporter": "python",
   "pygments_lexer": "ipython3",
   "version": "3.10.8"
  }
 },
 "nbformat": 4,
 "nbformat_minor": 5
}
