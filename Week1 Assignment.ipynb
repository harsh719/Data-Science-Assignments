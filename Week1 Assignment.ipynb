{
 "cells": [
  {
   "cell_type": "code",
   "execution_count": 4,
   "id": "616b5d4b-b841-4556-8da1-50478825911a",
   "metadata": {},
   "outputs": [],
   "source": [
    "#Q1. Create one variable containing following type of data: \n",
    "#(i) string \n",
    "#(ii) list \n",
    "#(iii) float \n",
    "#(iv) tuple \n",
    "\n",
    "A='Harsh'\n",
    "B= ['Harsh',2,3,4,20.45]\n",
    "C=20.56\n",
    "D= (\"apple\", \"banana\", \"cherry\")"
   ]
  },
  {
   "cell_type": "code",
   "execution_count": 11,
   "id": "4ce54bda-67a3-43e4-a713-a0ee54296165",
   "metadata": {},
   "outputs": [
    {
     "data": {
      "text/plain": [
       "str"
      ]
     },
     "execution_count": 11,
     "metadata": {},
     "output_type": "execute_result"
    }
   ],
   "source": [
    "type(A)"
   ]
  },
  {
   "cell_type": "code",
   "execution_count": 12,
   "id": "54371c96-f3b0-4b25-aaba-122e253f9a13",
   "metadata": {},
   "outputs": [
    {
     "data": {
      "text/plain": [
       "list"
      ]
     },
     "execution_count": 12,
     "metadata": {},
     "output_type": "execute_result"
    }
   ],
   "source": [
    "type(B)"
   ]
  },
  {
   "cell_type": "code",
   "execution_count": 13,
   "id": "527af75b-cd1a-47e9-aec2-2ece2946658c",
   "metadata": {},
   "outputs": [
    {
     "data": {
      "text/plain": [
       "float"
      ]
     },
     "execution_count": 13,
     "metadata": {},
     "output_type": "execute_result"
    }
   ],
   "source": [
    "type(C)"
   ]
  },
  {
   "cell_type": "code",
   "execution_count": 14,
   "id": "b5776b41-4a0f-4304-8e0f-aeee8bd4aeb4",
   "metadata": {},
   "outputs": [
    {
     "data": {
      "text/plain": [
       "tuple"
      ]
     },
     "execution_count": 14,
     "metadata": {},
     "output_type": "execute_result"
    }
   ],
   "source": [
    "type(D)"
   ]
  },
  {
   "cell_type": "code",
   "execution_count": 37,
   "id": "7a27811a-388d-4e08-8040-7a3c8cb49e97",
   "metadata": {},
   "outputs": [],
   "source": [
    "#Q2. Given are some following variables containing data: \n",
    "#(i) var1 = ‘ ‘ \n",
    "#(ii) var2 = ‘[ DS , ML , Python]’ \n",
    "#(iii) var3 = [ ‘DS’ , ’ML’ , ‘Python’ ] \n",
    "#(iv) var4 = 1. \n",
    "#What will be the data type of the above given variable. \n",
    "var1 = 2"
   ]
  },
  {
   "cell_type": "code",
   "execution_count": 38,
   "id": "d9ace591-49b8-44d9-8fab-80a64d09cf73",
   "metadata": {},
   "outputs": [
    {
     "data": {
      "text/plain": [
       "int"
      ]
     },
     "execution_count": 38,
     "metadata": {},
     "output_type": "execute_result"
    }
   ],
   "source": [
    "type(var1)"
   ]
  },
  {
   "cell_type": "code",
   "execution_count": 39,
   "id": "7a605659-6d7c-4c68-a5ca-a6b4e9b33957",
   "metadata": {},
   "outputs": [],
   "source": [
    "var2='[DS, ML, Python]'"
   ]
  },
  {
   "cell_type": "code",
   "execution_count": 40,
   "id": "b5aad10a-e968-4cbc-ac1c-7117712aa61d",
   "metadata": {},
   "outputs": [
    {
     "data": {
      "text/plain": [
       "str"
      ]
     },
     "execution_count": 40,
     "metadata": {},
     "output_type": "execute_result"
    }
   ],
   "source": [
    "type(var2)"
   ]
  },
  {
   "cell_type": "code",
   "execution_count": 41,
   "id": "53a42963-4dfe-406b-8d80-c8047d5406cf",
   "metadata": {},
   "outputs": [],
   "source": [
    "var3=['DS','ML','Python']"
   ]
  },
  {
   "cell_type": "code",
   "execution_count": 43,
   "id": "4f052b67-f9ee-4181-b619-5d73da41d22d",
   "metadata": {},
   "outputs": [
    {
     "data": {
      "text/plain": [
       "list"
      ]
     },
     "execution_count": 43,
     "metadata": {},
     "output_type": "execute_result"
    }
   ],
   "source": [
    "type(var3)"
   ]
  },
  {
   "cell_type": "code",
   "execution_count": 44,
   "id": "61caf1c4-504c-41ea-ab8d-f1c6771b0be9",
   "metadata": {},
   "outputs": [],
   "source": [
    "var4=1."
   ]
  },
  {
   "cell_type": "code",
   "execution_count": 45,
   "id": "892086be-136d-45f2-96cb-070fc6ff1397",
   "metadata": {},
   "outputs": [
    {
     "data": {
      "text/plain": [
       "float"
      ]
     },
     "execution_count": 45,
     "metadata": {},
     "output_type": "execute_result"
    }
   ],
   "source": [
    "type(var4)"
   ]
  },
  {
   "cell_type": "code",
   "execution_count": 46,
   "id": "659283b4-2b6f-45a0-b2e0-cde7130ed3f9",
   "metadata": {},
   "outputs": [],
   "source": [
    "#Q3. Explain the use of the following operators using an example: \n",
    "#(i) / \n",
    "#(ii) %  \n",
    "#(iii) // \n",
    "#(iv) ** "
   ]
  },
  {
   "cell_type": "code",
   "execution_count": 47,
   "id": "3501d3a1-a9ff-4e19-8909-0712a0ff9e29",
   "metadata": {},
   "outputs": [],
   "source": [
    "a=150\n",
    "b=30"
   ]
  },
  {
   "cell_type": "code",
   "execution_count": 48,
   "id": "ae1c8ca7-69a5-4508-b5f2-b85be7fec42b",
   "metadata": {},
   "outputs": [],
   "source": [
    "c=a/b"
   ]
  },
  {
   "cell_type": "code",
   "execution_count": 49,
   "id": "a846e6d9-8164-4c51-ba66-50fe03865026",
   "metadata": {},
   "outputs": [
    {
     "data": {
      "text/plain": [
       "5.0"
      ]
     },
     "execution_count": 49,
     "metadata": {},
     "output_type": "execute_result"
    }
   ],
   "source": [
    "c"
   ]
  },
  {
   "cell_type": "code",
   "execution_count": 50,
   "id": "0bc85dd6-54a4-42e9-89ec-38c4cd17c41c",
   "metadata": {},
   "outputs": [],
   "source": [
    "d=a%b"
   ]
  },
  {
   "cell_type": "code",
   "execution_count": 51,
   "id": "7258f3c3-cc84-4412-a172-c204330849b9",
   "metadata": {},
   "outputs": [
    {
     "data": {
      "text/plain": [
       "0"
      ]
     },
     "execution_count": 51,
     "metadata": {},
     "output_type": "execute_result"
    }
   ],
   "source": [
    "d"
   ]
  },
  {
   "cell_type": "code",
   "execution_count": 52,
   "id": "dc296d25-7f0b-45b4-81ed-aa2fe84737b8",
   "metadata": {},
   "outputs": [],
   "source": [
    "e=a//b"
   ]
  },
  {
   "cell_type": "code",
   "execution_count": 53,
   "id": "e68bd2a5-f1c5-48f5-8837-f1e6e6a1b89e",
   "metadata": {},
   "outputs": [
    {
     "data": {
      "text/plain": [
       "5"
      ]
     },
     "execution_count": 53,
     "metadata": {},
     "output_type": "execute_result"
    }
   ],
   "source": [
    "e"
   ]
  },
  {
   "cell_type": "code",
   "execution_count": 54,
   "id": "3d0547af-0f02-43e1-987b-9ef7fcf9e800",
   "metadata": {},
   "outputs": [],
   "source": [
    "f=a**b"
   ]
  },
  {
   "cell_type": "code",
   "execution_count": 55,
   "id": "b395f536-c9fb-4895-b854-09f913cbe4f2",
   "metadata": {},
   "outputs": [
    {
     "data": {
      "text/plain": [
       "191751059232884086668491363525390625000000000000000000000000000000"
      ]
     },
     "execution_count": 55,
     "metadata": {},
     "output_type": "execute_result"
    }
   ],
   "source": [
    "f"
   ]
  },
  {
   "cell_type": "code",
   "execution_count": 56,
   "id": "a07aaabf-dc26-45b9-b784-97f20555e02f",
   "metadata": {},
   "outputs": [],
   "source": [
    "#Q4. Create a list of length 10 of your choice containing multiple types of data. Using for loop print the  element and its data type. "
   ]
  },
  {
   "cell_type": "code",
   "execution_count": 57,
   "id": "41a56950-dac0-489f-80e1-4b548202d39b",
   "metadata": {},
   "outputs": [],
   "source": [
    "A=[1,2,3,5,2.35,'Harsh','Apple','Banana','Cherry','I love you']"
   ]
  },
  {
   "cell_type": "code",
   "execution_count": 58,
   "id": "176c6de8-f2b5-4a02-86ed-b26e16c40130",
   "metadata": {},
   "outputs": [
    {
     "name": "stdout",
     "output_type": "stream",
     "text": [
      "<class 'int'>\n",
      "1\n",
      "<class 'int'>\n",
      "2\n",
      "<class 'int'>\n",
      "3\n",
      "<class 'int'>\n",
      "5\n",
      "<class 'float'>\n",
      "2.35\n",
      "<class 'str'>\n",
      "Harsh\n",
      "<class 'str'>\n",
      "Apple\n",
      "<class 'str'>\n",
      "Banana\n",
      "<class 'str'>\n",
      "Cherry\n",
      "<class 'str'>\n",
      "I love you\n"
     ]
    }
   ],
   "source": [
    "for i in A:\n",
    "    print(type(i))\n",
    "    print (i)"
   ]
  },
  {
   "cell_type": "code",
   "execution_count": 59,
   "id": "5cbf2b79-c727-464e-8bc3-0b695d34f10d",
   "metadata": {},
   "outputs": [],
   "source": [
    "#Q5. Using a while loop, verify if the number A is purely divisible by number B and if so then how many  times it can be divisible. "
   ]
  },
  {
   "cell_type": "code",
   "execution_count": 26,
   "id": "697d8907-4867-4029-b7c7-f58e168cdf01",
   "metadata": {},
   "outputs": [
    {
     "name": "stdout",
     "output_type": "stream",
     "text": [
      "A is divisible by B 1 times\n",
      "A is divisible by B 2 times\n",
      "A is divisible by B 3 times\n",
      "A is divisible by B 4 times\n"
     ]
    }
   ],
   "source": [
    "A=50000\n",
    "B=10\n",
    "\n",
    "count=0\n",
    "\n",
    "while A%B==0:\n",
    "    A=A/B\n",
    "    count+=1\n",
    "    print(\"A is divisible by B\", count, \"times\")"
   ]
  },
  {
   "cell_type": "code",
   "execution_count": 27,
   "id": "f558455a-0861-44ef-a23a-54228701f1aa",
   "metadata": {},
   "outputs": [],
   "source": [
    "#Q6. Create a list containing 25 int type data. Using for loop and if-else condition print if the element is  divisible by 3 or not. "
   ]
  },
  {
   "cell_type": "code",
   "execution_count": 32,
   "id": "d25c92a7-83d7-47bf-ae8f-cca867f3af92",
   "metadata": {},
   "outputs": [
    {
     "name": "stdout",
     "output_type": "stream",
     "text": [
      "3 is divisible by 3\n",
      "6 is divisible by 3\n",
      "9 is divisible by 3\n",
      "12 is divisible by 3\n",
      "18 is divisible by 3\n",
      "21 is divisible by 3\n",
      "24 is divisible by 3\n",
      "26 is not divisible by 3\n",
      "27 is divisible by 3\n",
      "30 is divisible by 3\n",
      "32 is not divisible by 3\n",
      "36 is divisible by 3\n",
      "39 is divisible by 3\n",
      "41 is not divisible by 3\n",
      "45 is divisible by 3\n",
      "48 is divisible by 3\n",
      "51 is divisible by 3\n",
      "54 is divisible by 3\n",
      "57 is divisible by 3\n",
      "60 is divisible by 3\n",
      "62 is not divisible by 3\n",
      "64 is not divisible by 3\n",
      "66 is divisible by 3\n",
      "68 is not divisible by 3\n",
      "69 is divisible by 3\n"
     ]
    }
   ],
   "source": [
    "A=[3,6,9,12,18,21,24,26,27,30,32,36,39,41,45,48,51,54,57,60,62,64,66,68,69]\n",
    "\n",
    "for B in A:\n",
    "    if B%3==0:\n",
    "        print (B, \"is divisible by 3\")\n",
    "    else:\n",
    "        print (B, \"is not divisible by 3\")\n"
   ]
  },
  {
   "cell_type": "code",
   "execution_count": 35,
   "id": "2051586a-8cfb-4929-a9c1-35b1857305a2",
   "metadata": {},
   "outputs": [
    {
     "name": "stdout",
     "output_type": "stream",
     "text": [
      "1 is not divisible by 3\n",
      "2 is not divisible by 3\n",
      "3 is divisible by 3\n",
      "4 is not divisible by 3\n",
      "5 is not divisible by 3\n",
      "6 is divisible by 3\n",
      "7 is not divisible by 3\n",
      "8 is not divisible by 3\n",
      "9 is divisible by 3\n",
      "10 is not divisible by 3\n",
      "11 is not divisible by 3\n",
      "12 is divisible by 3\n",
      "13 is not divisible by 3\n",
      "14 is not divisible by 3\n",
      "15 is divisible by 3\n",
      "16 is not divisible by 3\n",
      "17 is not divisible by 3\n",
      "18 is divisible by 3\n",
      "19 is not divisible by 3\n",
      "20 is not divisible by 3\n",
      "21 is divisible by 3\n",
      "22 is not divisible by 3\n",
      "23 is not divisible by 3\n",
      "24 is divisible by 3\n",
      "25 is not divisible by 3\n"
     ]
    }
   ],
   "source": [
    "my_list = list (range(1, 26))\n",
    "\n",
    "for A in my_list:\n",
    "    if A%3==0:\n",
    "        print (A, \"is divisible by 3\")\n",
    "    else:\n",
    "       print (A, \"is not divisible by 3\") "
   ]
  },
  {
   "cell_type": "code",
   "execution_count": 36,
   "id": "9df7e2df-b12a-4c4d-9fa9-3d78b560ad14",
   "metadata": {},
   "outputs": [],
   "source": [
    "#Q7. What do you understand about mutable and immutable data types? Give examples for both showing  this property. "
   ]
  },
  {
   "cell_type": "code",
   "execution_count": 37,
   "id": "0474efa2-d075-458f-9122-8cf79ca836cc",
   "metadata": {},
   "outputs": [],
   "source": [
    "#mutable data types:\n",
    "    # This are the datatypes that are easy to modified once created and one can easily replace the value after it created\n",
    "    #below is the example of mutable data types\n",
    "    \n",
    "A = [1,2,3,4]"
   ]
  },
  {
   "cell_type": "code",
   "execution_count": 38,
   "id": "d9a5e95f-7e6b-4d64-8f92-01cf2176f5cf",
   "metadata": {},
   "outputs": [],
   "source": [
    "A[0] = 100"
   ]
  },
  {
   "cell_type": "code",
   "execution_count": 39,
   "id": "caa19ee2-e1b3-4e48-857f-117dd7218aa0",
   "metadata": {},
   "outputs": [
    {
     "data": {
      "text/plain": [
       "[100, 2, 3, 4]"
      ]
     },
     "execution_count": 39,
     "metadata": {},
     "output_type": "execute_result"
    }
   ],
   "source": [
    "A"
   ]
  },
  {
   "cell_type": "code",
   "execution_count": 40,
   "id": "96b4e646-dd82-4311-9967-82aff9fdaf75",
   "metadata": {},
   "outputs": [],
   "source": [
    "#As you can see here I replaced 1 by 100 and it easily replaced as list data type is mutable"
   ]
  },
  {
   "cell_type": "code",
   "execution_count": 43,
   "id": "1460d009-66d3-4fd4-a232-2a44b23fc30f",
   "metadata": {},
   "outputs": [
    {
     "ename": "TypeError",
     "evalue": "'int' object does not support item assignment",
     "output_type": "error",
     "traceback": [
      "\u001b[0;31m---------------------------------------------------------------------------\u001b[0m",
      "\u001b[0;31mTypeError\u001b[0m                                 Traceback (most recent call last)",
      "Cell \u001b[0;32mIn[43], line 9\u001b[0m\n\u001b[1;32m      1\u001b[0m \u001b[38;5;66;03m#Immuatable Data types\u001b[39;00m\n\u001b[1;32m      2\u001b[0m     \u001b[38;5;66;03m#Immutable data types are easy to access but difficult to modify as it involes the creation of copy \u001b[39;00m\n\u001b[1;32m      3\u001b[0m     \u001b[38;5;66;03m#if one want to change once it created\u001b[39;00m\n\u001b[1;32m      4\u001b[0m \n\u001b[1;32m      5\u001b[0m \u001b[38;5;66;03m#Example:\u001b[39;00m\n\u001b[1;32m      7\u001b[0m A\u001b[38;5;241m=\u001b[39m\u001b[38;5;241m10\u001b[39m\n\u001b[0;32m----> 9\u001b[0m \u001b[43mA\u001b[49m\u001b[43m[\u001b[49m\u001b[38;5;241;43m0\u001b[39;49m\u001b[43m]\u001b[49m\u001b[38;5;241m=\u001b[39m\u001b[38;5;241m2\u001b[39m\n",
      "\u001b[0;31mTypeError\u001b[0m: 'int' object does not support item assignment"
     ]
    }
   ],
   "source": [
    "#Immuatable Data types\n",
    "    #Immutable data types are easy to access but difficult to modify as it involes the creation of copy \n",
    "    #if one want to change once it created\n",
    "\n",
    "#Example:\n",
    "\n",
    "A=10\n",
    "\n",
    "A[0]=2\n",
    "    "
   ]
  },
  {
   "cell_type": "code",
   "execution_count": null,
   "id": "4d364bc0-0675-49c3-b74f-9ea39bc61dc3",
   "metadata": {},
   "outputs": [],
   "source": [
    "#As you can see here int is immutable data type and like this float, string and few others are also immutable."
   ]
  }
 ],
 "metadata": {
  "kernelspec": {
   "display_name": "Python 3 (ipykernel)",
   "language": "python",
   "name": "python3"
  },
  "language_info": {
   "codemirror_mode": {
    "name": "ipython",
    "version": 3
   },
   "file_extension": ".py",
   "mimetype": "text/x-python",
   "name": "python",
   "nbconvert_exporter": "python",
   "pygments_lexer": "ipython3",
   "version": "3.10.8"
  }
 },
 "nbformat": 4,
 "nbformat_minor": 5
}
