{
 "cells": [
  {
   "cell_type": "code",
   "execution_count": 4,
   "id": "4dc30008-20ef-4137-89cf-e6053b14d7fc",
   "metadata": {},
   "outputs": [
    {
     "data": {
      "text/plain": [
       "'Multiline comments is represents\\nby something like this'"
      ]
     },
     "execution_count": 4,
     "metadata": {},
     "output_type": "execute_result"
    }
   ],
   "source": [
    "'''Q1: How do you comment code in Python? What are the different types of comments? \n",
    "\n",
    "Ans 1: There are 2 types of comment in python. \n",
    "    Singleline comment\n",
    "    Multiline comment'''\n",
    "    \n",
    "#Single line comment is represented like this\n",
    "'''Multiline comments is represents\n",
    "by something like this\n",
    "'''"
   ]
  },
  {
   "cell_type": "code",
   "execution_count": 1,
   "id": "8405f4e9-df1c-482a-8acc-dd12d2c3ff8a",
   "metadata": {},
   "outputs": [],
   "source": [
    "#Q2.What are variables in Python? How do you declare and assign values to variables? \n",
    "\n",
    "#Ans 2: variables are used to store and reference data.\n",
    "message = \"Hello, World!\"\n"
   ]
  },
  {
   "cell_type": "code",
   "execution_count": 2,
   "id": "2c83687c-bf70-4be2-8345-eac28410b408",
   "metadata": {},
   "outputs": [],
   "source": [
    "#Q3 How do you convert one data type to another in Python?\n",
    "\n",
    "#ans 3: We can convert it using type casting\n",
    "\n",
    "#for ex:\n",
    "\n",
    "a = 5"
   ]
  },
  {
   "cell_type": "code",
   "execution_count": 3,
   "id": "d2d57de4-826e-4c02-8a2b-51c8a2bec95a",
   "metadata": {},
   "outputs": [
    {
     "data": {
      "text/plain": [
       "int"
      ]
     },
     "execution_count": 3,
     "metadata": {},
     "output_type": "execute_result"
    }
   ],
   "source": [
    "type(a)"
   ]
  },
  {
   "cell_type": "code",
   "execution_count": 4,
   "id": "e8076830-ea95-45ce-9d42-35cc60c142ed",
   "metadata": {},
   "outputs": [],
   "source": [
    "b = str (a)"
   ]
  },
  {
   "cell_type": "code",
   "execution_count": 5,
   "id": "b074ad5e-01a3-4f77-a62e-43deb9d17d6b",
   "metadata": {},
   "outputs": [
    {
     "data": {
      "text/plain": [
       "'5'"
      ]
     },
     "execution_count": 5,
     "metadata": {},
     "output_type": "execute_result"
    }
   ],
   "source": [
    "b"
   ]
  },
  {
   "cell_type": "code",
   "execution_count": 6,
   "id": "a4fe24f6-760c-4e09-95d2-c670752d15a7",
   "metadata": {},
   "outputs": [
    {
     "data": {
      "text/plain": [
       "str"
      ]
     },
     "execution_count": 6,
     "metadata": {},
     "output_type": "execute_result"
    }
   ],
   "source": [
    "type(b)"
   ]
  },
  {
   "cell_type": "code",
   "execution_count": 7,
   "id": "77e1821b-d1b9-41e1-b4ec-961a8ac57e0f",
   "metadata": {},
   "outputs": [
    {
     "data": {
      "text/plain": [
       "'Save the file with a .py extension, which indicates that it is a Python script. Choose a meaningful name for your script, such as my_script.py.\\n\\nOpen a command prompt or terminal window on your computer.\\n\\nNavigate to the directory where your Python script is located using the cd command. For example, if your script is saved in the \"Documents\" folder, you can navigate to it using the following command:'"
      ]
     },
     "execution_count": 7,
     "metadata": {},
     "output_type": "execute_result"
    }
   ],
   "source": [
    "#Q4: How do you write and execute a Python script from the command line? \n",
    "\n",
    "#Ans4: Open a text editor (e.g., Notepad, Sublime Text, Visual Studio Code) to write your Python script. Type your Python code into the text editor, following the correct syntax and indentation rules.\n",
    "\n",
    "'''Save the file with a .py extension, which indicates that it is a Python script. Choose a meaningful name for your script, such as my_script.py.\n",
    "\n",
    "Open a command prompt or terminal window on your computer.\n",
    "\n",
    "Navigate to the directory where your Python script is located using the cd command. For example, if your script is saved in the \"Documents\" folder, you can navigate to it using the following command:'''"
   ]
  },
  {
   "cell_type": "code",
   "execution_count": 9,
   "id": "4a461b0f-e4f8-4b60-b3c2-08e7ce3c929a",
   "metadata": {},
   "outputs": [],
   "source": [
    "#Q5. Given a list my_list = [1, 2, 3, 4, 5], write the code to slice the list and obtain the sub-list [2, 3]. \n",
    "\n",
    "#Ans5:\n",
    "\n",
    "my_list = [1,2,3,4,5]\n",
    "\n",
    "sub_list = my_list[1:3]"
   ]
  },
  {
   "cell_type": "code",
   "execution_count": 10,
   "id": "c768f687-22d3-44d3-94d6-ae4a038d739c",
   "metadata": {},
   "outputs": [
    {
     "data": {
      "text/plain": [
       "[2, 3]"
      ]
     },
     "execution_count": 10,
     "metadata": {},
     "output_type": "execute_result"
    }
   ],
   "source": [
    "sub_list"
   ]
  },
  {
   "cell_type": "code",
   "execution_count": 11,
   "id": "68b7df14-b371-481d-b16a-cd0e46cb280f",
   "metadata": {},
   "outputs": [],
   "source": [
    "#Q6. What is a complex number in mathematics, and how is it represented in Python? \n",
    "\n",
    "#Ans6:Complex number is a number that comprises both a real part and an imaginary part.\n",
    "\n",
    "#In Python, complex numbers are represented using the complex data type. The imaginary part is specified by appending the letter j or J to the value. For example:\n",
    "\n",
    "z = 3 + 2j\n",
    "\n"
   ]
  },
  {
   "cell_type": "code",
   "execution_count": 15,
   "id": "4be094b3-0f65-4b8d-a365-095526f0d2c9",
   "metadata": {},
   "outputs": [],
   "source": [
    "#Q7. What is the correct way to declare a variable named age and assign the value 25 to it? \n",
    "\n",
    "#Ans7: \n",
    "\n",
    "age = 25"
   ]
  },
  {
   "cell_type": "code",
   "execution_count": 16,
   "id": "0944b6b1-fae8-4977-98c0-3e04f4ba9666",
   "metadata": {},
   "outputs": [],
   "source": [
    "#Q8. Declare a variable named price and assign the value 9.99 to it. What data type does this variable  belong to? \n",
    "\n",
    "#Ans9:\n",
    "\n",
    "price = 9.99"
   ]
  },
  {
   "cell_type": "code",
   "execution_count": 17,
   "id": "66c6c5d9-2abd-4e5c-8784-0fa17e8bc89d",
   "metadata": {},
   "outputs": [
    {
     "data": {
      "text/plain": [
       "float"
      ]
     },
     "execution_count": 17,
     "metadata": {},
     "output_type": "execute_result"
    }
   ],
   "source": [
    "type(price)"
   ]
  },
  {
   "cell_type": "code",
   "execution_count": 18,
   "id": "93a30ad5-ed17-4b77-923b-9063708fd112",
   "metadata": {},
   "outputs": [
    {
     "name": "stdout",
     "output_type": "stream",
     "text": [
      "Harsh Rajeshbhai Shah\n"
     ]
    }
   ],
   "source": [
    "#Q9. Create a variable named name and assign your full name to it as a string. How would you print the  value of this variable? \n",
    "\n",
    "#Ans9:\n",
    "\n",
    "name = 'Harsh Rajeshbhai Shah'\n",
    "print(name)"
   ]
  },
  {
   "cell_type": "code",
   "execution_count": 21,
   "id": "e167cfc1-0929-4624-993e-dd22fca454eb",
   "metadata": {},
   "outputs": [],
   "source": [
    "#Q10. Given the string \"Hello, World!\", extract the substring \"World\". \n",
    "\n",
    "#Ans10:\n",
    "\n",
    "string = 'Hello, World!'\n",
    "\n",
    "substring = string[7:12]"
   ]
  },
  {
   "cell_type": "code",
   "execution_count": 22,
   "id": "85c0749f-606e-4dbd-a135-bf06fc093740",
   "metadata": {},
   "outputs": [
    {
     "data": {
      "text/plain": [
       "'World'"
      ]
     },
     "execution_count": 22,
     "metadata": {},
     "output_type": "execute_result"
    }
   ],
   "source": [
    "substring"
   ]
  },
  {
   "cell_type": "code",
   "execution_count": 23,
   "id": "8057e248-8314-48db-a3fb-960b14c84cbf",
   "metadata": {},
   "outputs": [],
   "source": [
    "#Q11. Create a variable named \"is_student\" and assign it a boolean value indicating whether you are  currently a student or not. \n",
    "\n",
    "#Ans11: \n",
    "\n",
    "is_student = True"
   ]
  },
  {
   "cell_type": "code",
   "execution_count": 24,
   "id": "89db3eb2-a077-4d04-99df-fe1e75dd3f17",
   "metadata": {},
   "outputs": [
    {
     "data": {
      "text/plain": [
       "True"
      ]
     },
     "execution_count": 24,
     "metadata": {},
     "output_type": "execute_result"
    }
   ],
   "source": [
    "is_student"
   ]
  },
  {
   "cell_type": "code",
   "execution_count": null,
   "id": "b7ff3aa4-23b8-4420-bdc0-2105cb8b81dc",
   "metadata": {},
   "outputs": [],
   "source": []
  }
 ],
 "metadata": {
  "kernelspec": {
   "display_name": "Python 3 (ipykernel)",
   "language": "python",
   "name": "python3"
  },
  "language_info": {
   "codemirror_mode": {
    "name": "ipython",
    "version": 3
   },
   "file_extension": ".py",
   "mimetype": "text/x-python",
   "name": "python",
   "nbconvert_exporter": "python",
   "pygments_lexer": "ipython3",
   "version": "3.10.8"
  }
 },
 "nbformat": 4,
 "nbformat_minor": 5
}
